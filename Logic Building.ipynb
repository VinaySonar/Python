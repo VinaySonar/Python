{
 "cells": [
  {
   "cell_type": "code",
   "execution_count": 1,
   "id": "b2ccca92",
   "metadata": {},
   "outputs": [
    {
     "name": "stdout",
     "output_type": "stream",
     "text": [
      "Package 1 reading...\n"
     ]
    }
   ],
   "source": [
    "import package1"
   ]
  },
  {
   "cell_type": "code",
   "execution_count": 2,
   "id": "db4a6059",
   "metadata": {},
   "outputs": [
    {
     "name": "stdout",
     "output_type": "stream",
     "text": [
      "__main__\n"
     ]
    }
   ],
   "source": [
    "print(__name__)"
   ]
  },
  {
   "cell_type": "code",
   "execution_count": 3,
   "id": "9a3bf6f3",
   "metadata": {},
   "outputs": [
    {
     "name": "stdout",
     "output_type": "stream",
     "text": [
      "This is module 1\n",
      "Name of a module id  package1.module1\n"
     ]
    }
   ],
   "source": [
    "from package1 import module1"
   ]
  },
  {
   "cell_type": "code",
   "execution_count": 4,
   "id": "d5b9a2ea",
   "metadata": {},
   "outputs": [
    {
     "name": "stdout",
     "output_type": "stream",
     "text": [
      "Inside function fun1 in module\n"
     ]
    }
   ],
   "source": [
    "module1.fun1()"
   ]
  },
  {
   "cell_type": "code",
   "execution_count": 10,
   "id": "030cbbfc",
   "metadata": {},
   "outputs": [
    {
     "name": "stdout",
     "output_type": "stream",
     "text": [
      "Enter a number to be checked for prime4\n",
      "PrimeNo\n"
     ]
    }
   ],
   "source": [
    "def isprime(n):\n",
    "       for num in range(n):\n",
    "            if num>1:\n",
    "                if n%num==0:\n",
    "                    return False\n",
    "                break\n",
    "            else:\n",
    "                return True\n",
    "    \n",
    "import sys\n",
    "print(\"Command line arguments are:\")\n",
    "print(sys.argv, type(sys.argv))\n",
    "\n",
    "n=int(input(\"Enter a number to be checked for prime\"))\n",
    "if isprime(n)==True:\n",
    "      print(\"PrimeNo\")\n",
    "else:\n",
    "      print(\"Not a Prime No\")"
   ]
  },
  {
   "cell_type": "markdown",
   "id": "0b566f83",
   "metadata": {},
   "source": [
    "# Simple Calculator Program\n",
    "Scientific Calculator program\n"
   ]
  },
  {
   "cell_type": "code",
   "execution_count": 32,
   "id": "b194c335",
   "metadata": {},
   "outputs": [
    {
     "name": "stdout",
     "output_type": "stream",
     "text": [
      "1.Addition 2.Subtraction 3.Multiplication 4.Division\n",
      "Enter a choice to do a operation:3\n",
      "Enter a number:2\n",
      "Enter a number:2\n",
      "Multiplication: 4\n"
     ]
    }
   ],
   "source": [
    "print(\"1.Addition\",\"2.Subtraction\",\"3.Multiplication\",\"4.Division\")\n",
    "n=int(input(\"Enter a choice to do a operation:\"))\n",
    "a=int(input(\"Enter a number:\"))\n",
    "b=int(input(\"Enter a number:\"))\n",
    "match n:\n",
    "    case 1:\n",
    "        c=a+b\n",
    "        print(\"Addition:\",c)\n",
    "        \n",
    "    case 2:\n",
    "        c=a-b\n",
    "        print(\"Subtraction:\",c)\n",
    "    \n",
    "    case 3:\n",
    "        c=a*b\n",
    "        print(\"Multiplication:\",c)\n",
    "        \n",
    "    case 4:\n",
    "        c=a/b\n",
    "        print(\"Division:\",c)\n",
    "    \n",
    "    \n",
    "    \n",
    "    "
   ]
  },
  {
   "cell_type": "markdown",
   "id": "d7b09f59",
   "metadata": {},
   "source": [
    "# WAP to print the odd numbers from 1 to 99. Prints one number per line."
   ]
  },
  {
   "cell_type": "code",
   "execution_count": 22,
   "id": "80405387",
   "metadata": {},
   "outputs": [
    {
     "name": "stdout",
     "output_type": "stream",
     "text": [
      "1\n",
      "3\n",
      "5\n",
      "7\n",
      "9\n",
      "11\n",
      "13\n",
      "15\n",
      "17\n",
      "19\n",
      "21\n",
      "23\n",
      "25\n",
      "27\n",
      "29\n",
      "31\n",
      "33\n",
      "35\n",
      "37\n",
      "39\n",
      "41\n",
      "43\n",
      "45\n",
      "47\n",
      "49\n",
      "51\n",
      "53\n",
      "55\n",
      "57\n",
      "59\n",
      "61\n",
      "63\n",
      "65\n",
      "67\n",
      "69\n",
      "71\n",
      "73\n",
      "75\n",
      "77\n",
      "79\n",
      "81\n",
      "83\n",
      "85\n",
      "87\n",
      "89\n",
      "91\n",
      "93\n",
      "95\n",
      "97\n",
      "99\n"
     ]
    }
   ],
   "source": [
    "i=0\n",
    "num=100\n",
    "for i in range(1,num):\n",
    "    if i%2!=0:\n",
    "        print(i)\n",
    "    \n",
    "    "
   ]
  },
  {
   "cell_type": "markdown",
   "id": "4b2c2c0e",
   "metadata": {},
   "source": [
    "# WAP  to accept a number and check the number is even or not. Prints 1 if the number is even or 0 if the number is odd."
   ]
  },
  {
   "cell_type": "code",
   "execution_count": 36,
   "id": "fe24c184",
   "metadata": {},
   "outputs": [
    {
     "name": "stdout",
     "output_type": "stream",
     "text": [
      "Enter any number:2\n",
      "1\n"
     ]
    }
   ],
   "source": [
    "ip=int(input(\"Enter any number:\"))\n",
    "if ip%2==0:\n",
    "    print(\"1\")  #For even no\n",
    "else:\n",
    "    print(\"0\") #For odd number"
   ]
  },
  {
   "cell_type": "markdown",
   "id": "9613c624",
   "metadata": {},
   "source": [
    "# WAP to print numbers between 1 to 100 which are divisible by 3, 5 and by both\n",
    "( total 3 list of numbers to be printed)"
   ]
  },
  {
   "cell_type": "code",
   "execution_count": 65,
   "id": "a99826ce",
   "metadata": {},
   "outputs": [
    {
     "name": "stdout",
     "output_type": "stream",
     "text": [
      "Divided by 3: [3, 6, 9, 12, 15, 18, 21, 24, 27, 30, 33, 36, 39, 42, 45, 48, 51, 54, 57, 60, 63, 66, 69, 72, 75, 78, 81, 84, 87, 90, 93, 96, 99] Divided by 5: [5, 10, 20, 25, 35, 40, 50, 55, 65, 70, 80, 85, 95, 100] Divided by both 3&5: [1, 2, 4, 7, 8, 11, 13, 14, 16, 17, 19, 22, 23, 26, 28, 29, 31, 32, 34, 37, 38, 41, 43, 44, 46, 47, 49, 52, 53, 56, 58, 59, 61, 62, 64, 67, 68, 71, 73, 74, 76, 77, 79, 82, 83, 86, 88, 89, 91, 92, 94, 97, 98]\n"
     ]
    }
   ],
   "source": [
    "\n",
    "l1=[]\n",
    "l2=[]\n",
    "l3=[]\n",
    "for n in range(1,101):  #-->For the range in 1 to 100 \n",
    "    if n%3==0:          #-->For the Remainder equals to zero \n",
    "        l1.append(n)\n",
    "    elif n%5==0:       \n",
    "        l2.append(n)    #-->n value will be append to the the lsit \"l\"\n",
    "    else:\n",
    "        n%3 and n%5\n",
    "        l3.append(n) \n",
    "print(\"Divided by 3:\",l1,\"Divided by 5:\",l2,\"Divided by both 3&5:\",l3)  #-->All the list were printed "
   ]
  },
  {
   "cell_type": "markdown",
   "id": "6c2ad25a",
   "metadata": {},
   "source": []
  },
  {
   "cell_type": "code",
   "execution_count": 4,
   "id": "d67f0054",
   "metadata": {},
   "outputs": [
    {
     "name": "stdout",
     "output_type": "stream",
     "text": [
      "The average is: 51.333333333333336\n"
     ]
    }
   ],
   "source": [
    "\n",
    "\n",
    "\n",
    "import math\n",
    "def list_1(l1):\n",
    "    total=0\n",
    "    count=0\n",
    "    for idx in l1:\n",
    "        for ele in idx:\n",
    "            if ele%11==0:\n",
    "                count+=1\n",
    "                total=total+ele\n",
    "    if math.sqrt(count).is_integer():\n",
    "        print(\"The sum of number is:\",total)\n",
    "    else:\n",
    "        t1=total/count\n",
    "        print(\"The average is:\",t1)\n",
    "        \n",
    "list_1([[11,34,89],[45,66,243],[123,90,77]])"
   ]
  },
  {
   "cell_type": "code",
   "execution_count": 18,
   "id": "085622ed",
   "metadata": {},
   "outputs": [
    {
     "name": "stdout",
     "output_type": "stream",
     "text": [
      "0\n",
      "1\n",
      "1\n",
      "2\n",
      "3\n",
      "5\n",
      "8\n",
      "13\n",
      "21\n",
      "34\n",
      "55\n",
      "89\n"
     ]
    }
   ],
   "source": [
    "# Fibonacci Series.\n",
    "#     1,1,2,3,5,8,13,21,34,...\n",
    "\n",
    "\n",
    "a=0\n",
    "b=1\n",
    "total=0\n",
    "while a<100:\n",
    "#for i in range(15):\n",
    "    print(a)\n",
    "    total=a+b\n",
    "    a=b\n",
    "    b=total\n",
    "    "
   ]
  },
  {
   "cell_type": "code",
   "execution_count": 22,
   "id": "61791f50",
   "metadata": {},
   "outputs": [
    {
     "name": "stdout",
     "output_type": "stream",
     "text": [
      "Enter a number:1234\n",
      "1\n",
      "2\n",
      "3\n",
      "4\n"
     ]
    }
   ],
   "source": [
    "a=input(\"Enter a number:\")\n",
    "b=len(a)\n",
    "sum1=0\n",
    "while a!=0:\n",
    "    r=a%10"
   ]
  },
  {
   "cell_type": "markdown",
   "id": "48b6f8fd",
   "metadata": {},
   "source": [
    "# Perfect sqaure WAP to check if a number is perfect square ot not."
   ]
  },
  {
   "cell_type": "code",
   "execution_count": 45,
   "id": "eb61162c",
   "metadata": {},
   "outputs": [
    {
     "name": "stdout",
     "output_type": "stream",
     "text": [
      "Enter a number to check:25\n",
      "Number is a perfect square:\n"
     ]
    }
   ],
   "source": [
    "\n",
    "import math\n",
    "    \n",
    "def isperfectsq(num):    \n",
    "    if (num>0):\n",
    "        x=int(math.sqrt(num))\n",
    "        return ((x*x)==num)\n",
    "        #print(num,x)\n",
    "    return False\n",
    "      \n",
    "num=int(input(\"Enter a number to check:\"))\n",
    "if isperfectsq(num):\n",
    "    print(\"Number is a perfect square:\")\n",
    "else:\n",
    "    print(\"Number is not a perfect square\")\n",
    "    \n"
   ]
  },
  {
   "cell_type": "code",
   "execution_count": 47,
   "id": "09543050",
   "metadata": {},
   "outputs": [
    {
     "name": "stdout",
     "output_type": "stream",
     "text": [
      "Not a perfect sq\n"
     ]
    }
   ],
   "source": [
    "#2nd Method\n",
    "\n",
    "num=35\n",
    "x=math.sqrt(num)\n",
    "if x.is_integer():\n",
    "    print(\"Is Perfect sq\")\n",
    "else:\n",
    "    print(\"Not a perfect sq\")"
   ]
  },
  {
   "cell_type": "code",
   "execution_count": 94,
   "id": "bfb93b4e",
   "metadata": {},
   "outputs": [
    {
     "name": "stdout",
     "output_type": "stream",
     "text": [
      "Enter a number:12\n",
      "Enter a number:23\n",
      "Enter a number:22\n",
      "Elements are [2, 3, 2]\n"
     ]
    },
    {
     "data": {
      "text/plain": [
       "True"
      ]
     },
     "execution_count": 94,
     "metadata": {},
     "output_type": "execute_result"
    }
   ],
   "source": [
    "# WAP that accepts three integers from the user and return true if two or more \n",
    "# of them (integers ) have the same rightmost digit. \n",
    "# The integers are non-negative\n",
    "l1=[]\n",
    "l2=[]\n",
    "def three():\n",
    "    for idx in range(1,4):\n",
    "        ip=int(input(\"Enter a number:\"))\n",
    "        rem=ip%10\n",
    "        l1.append(rem)\n",
    "    print(\"Elements are\",l1)\n",
    "    for ele in l1:\n",
    "        if (l1[0]==l1[1] or l1[2]==l1[1] or l1[0]==l1[2]):\n",
    "            return True\n",
    "        else:\n",
    "            return False\n",
    "    \n",
    "        \n",
    "three()\n",
    "        \n",
    "        \n",
    "        \n",
    "        \n"
   ]
  },
  {
   "cell_type": "code",
   "execution_count": null,
   "id": "033d6afc",
   "metadata": {},
   "outputs": [],
   "source": []
  },
  {
   "cell_type": "code",
   "execution_count": null,
   "id": "5a32b79d",
   "metadata": {},
   "outputs": [],
   "source": []
  }
 ],
 "metadata": {
  "kernelspec": {
   "display_name": "Python 3 (ipykernel)",
   "language": "python",
   "name": "python3"
  },
  "language_info": {
   "codemirror_mode": {
    "name": "ipython",
    "version": 3
   },
   "file_extension": ".py",
   "mimetype": "text/x-python",
   "name": "python",
   "nbconvert_exporter": "python",
   "pygments_lexer": "ipython3",
   "version": "3.11.4"
  }
 },
 "nbformat": 4,
 "nbformat_minor": 5
}
