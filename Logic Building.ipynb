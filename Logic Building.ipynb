{
 "cells": [
  {
   "cell_type": "code",
   "execution_count": 1,
   "id": "b2ccca92",
   "metadata": {},
   "outputs": [
    {
     "name": "stdout",
     "output_type": "stream",
     "text": [
      "Package 1 reading...\n"
     ]
    }
   ],
   "source": [
    "import package1"
   ]
  },
  {
   "cell_type": "code",
   "execution_count": 2,
   "id": "db4a6059",
   "metadata": {},
   "outputs": [
    {
     "name": "stdout",
     "output_type": "stream",
     "text": [
      "__main__\n"
     ]
    }
   ],
   "source": [
    "print(__name__)"
   ]
  },
  {
   "cell_type": "code",
   "execution_count": 3,
   "id": "9a3bf6f3",
   "metadata": {},
   "outputs": [
    {
     "name": "stdout",
     "output_type": "stream",
     "text": [
      "This is module 1\n",
      "Name of a module id  package1.module1\n"
     ]
    }
   ],
   "source": [
    "from package1 import module1"
   ]
  },
  {
   "cell_type": "code",
   "execution_count": 4,
   "id": "d5b9a2ea",
   "metadata": {},
   "outputs": [
    {
     "name": "stdout",
     "output_type": "stream",
     "text": [
      "Inside function fun1 in module\n"
     ]
    }
   ],
   "source": [
    "module1.fun1()"
   ]
  },
  {
   "cell_type": "code",
   "execution_count": 10,
   "id": "030cbbfc",
   "metadata": {},
   "outputs": [
    {
     "name": "stdout",
     "output_type": "stream",
     "text": [
      "Enter a number to be checked for prime4\n",
      "PrimeNo\n"
     ]
    }
   ],
   "source": [
    "def isprime(n):\n",
    "       for num in range(n):\n",
    "            if num>1:\n",
    "                if n%num==0:\n",
    "                    return False\n",
    "                break\n",
    "            else:\n",
    "                return True\n",
    "    \n",
    "import sys\n",
    "print(\"Command line arguments are:\")\n",
    "print(sys.argv, type(sys.argv))\n",
    "\n",
    "n=int(input(\"Enter a number to be checked for prime\"))\n",
    "if isprime(n)==True:\n",
    "      print(\"PrimeNo\")\n",
    "else:\n",
    "      print(\"Not a Prime No\")"
   ]
  },
  {
   "cell_type": "markdown",
   "id": "7242325b",
   "metadata": {},
   "source": [
    "# Simple Calculator Program\n",
    "Scientific Calculator program\n"
   ]
  },
  {
   "cell_type": "code",
   "execution_count": 32,
   "id": "ca10018c",
   "metadata": {},
   "outputs": [
    {
     "name": "stdout",
     "output_type": "stream",
     "text": [
      "1.Addition 2.Subtraction 3.Multiplication 4.Division\n",
      "Enter a choice to do a operation:3\n",
      "Enter a number:2\n",
      "Enter a number:2\n",
      "Multiplication: 4\n"
     ]
    }
   ],
   "source": [
    "print(\"1.Addition\",\"2.Subtraction\",\"3.Multiplication\",\"4.Division\")\n",
    "n=int(input(\"Enter a choice to do a operation:\"))\n",
    "a=int(input(\"Enter a number:\"))\n",
    "b=int(input(\"Enter a number:\"))\n",
    "match n:\n",
    "    case 1:\n",
    "        c=a+b\n",
    "        print(\"Addition:\",c)\n",
    "        \n",
    "    case 2:\n",
    "        c=a-b\n",
    "        print(\"Subtraction:\",c)\n",
    "    \n",
    "    case 3:\n",
    "        c=a*b\n",
    "        print(\"Multiplication:\",c)\n",
    "        \n",
    "    case 4:\n",
    "        c=a/b\n",
    "        print(\"Division:\",c)\n",
    "    \n",
    "    \n",
    "    \n",
    "    "
   ]
  },
  {
   "cell_type": "markdown",
   "id": "6189a5ff",
   "metadata": {},
   "source": [
    "# WAP to print the odd numbers from 1 to 99. Prints one number per line."
   ]
  },
  {
   "cell_type": "code",
   "execution_count": 22,
   "id": "0a2d892a",
   "metadata": {},
   "outputs": [
    {
     "name": "stdout",
     "output_type": "stream",
     "text": [
      "1\n",
      "3\n",
      "5\n",
      "7\n",
      "9\n",
      "11\n",
      "13\n",
      "15\n",
      "17\n",
      "19\n",
      "21\n",
      "23\n",
      "25\n",
      "27\n",
      "29\n",
      "31\n",
      "33\n",
      "35\n",
      "37\n",
      "39\n",
      "41\n",
      "43\n",
      "45\n",
      "47\n",
      "49\n",
      "51\n",
      "53\n",
      "55\n",
      "57\n",
      "59\n",
      "61\n",
      "63\n",
      "65\n",
      "67\n",
      "69\n",
      "71\n",
      "73\n",
      "75\n",
      "77\n",
      "79\n",
      "81\n",
      "83\n",
      "85\n",
      "87\n",
      "89\n",
      "91\n",
      "93\n",
      "95\n",
      "97\n",
      "99\n"
     ]
    }
   ],
   "source": [
    "i=0\n",
    "num=100\n",
    "for i in range(1,num):\n",
    "    if i%2!=0:\n",
    "        print(i)\n",
    "    \n",
    "    "
   ]
  },
  {
   "cell_type": "markdown",
   "id": "3b172562",
   "metadata": {},
   "source": [
    "# WAP  to accept a number and check the number is even or not. Prints 1 if the number is even or 0 if the number is odd."
   ]
  },
  {
   "cell_type": "code",
   "execution_count": 36,
   "id": "585a3746",
   "metadata": {},
   "outputs": [
    {
     "name": "stdout",
     "output_type": "stream",
     "text": [
      "Enter any number:2\n",
      "1\n"
     ]
    }
   ],
   "source": [
    "ip=int(input(\"Enter any number:\"))\n",
    "if ip%2==0:\n",
    "    print(\"1\")  #For even no\n",
    "else:\n",
    "    print(\"0\") #For odd number"
   ]
  },
  {
   "cell_type": "markdown",
   "id": "9ed2cb9c",
   "metadata": {},
   "source": [
    "# WAP to print numbers between 1 to 100 which are divisible by 3, 5 and by both\n",
    "( total 3 list of numbers to be printed)"
   ]
  },
  {
   "cell_type": "code",
   "execution_count": 65,
   "id": "9d581fc3",
   "metadata": {},
   "outputs": [
    {
     "name": "stdout",
     "output_type": "stream",
     "text": [
      "Divided by 3: [3, 6, 9, 12, 15, 18, 21, 24, 27, 30, 33, 36, 39, 42, 45, 48, 51, 54, 57, 60, 63, 66, 69, 72, 75, 78, 81, 84, 87, 90, 93, 96, 99] Divided by 5: [5, 10, 20, 25, 35, 40, 50, 55, 65, 70, 80, 85, 95, 100] Divided by both 3&5: [1, 2, 4, 7, 8, 11, 13, 14, 16, 17, 19, 22, 23, 26, 28, 29, 31, 32, 34, 37, 38, 41, 43, 44, 46, 47, 49, 52, 53, 56, 58, 59, 61, 62, 64, 67, 68, 71, 73, 74, 76, 77, 79, 82, 83, 86, 88, 89, 91, 92, 94, 97, 98]\n"
     ]
    }
   ],
   "source": [
    "\n",
    "l1=[]\n",
    "l2=[]\n",
    "l3=[]\n",
    "for n in range(1,101):  #-->For the range in 1 to 100 \n",
    "    if n%3==0:          #-->For the Remainder equals to zero \n",
    "        l1.append(n)\n",
    "    elif n%5==0:       \n",
    "        l2.append(n)    #-->n value will be append to the the lsit \"l\"\n",
    "    else:\n",
    "        n%3 and n%5\n",
    "        l3.append(n) \n",
    "print(\"Divided by 3:\",l1,\"Divided by 5:\",l2,\"Divided by both 3&5:\",l3)  #-->All the list were printed "
   ]
  },
  {
   "cell_type": "markdown",
   "id": "eaea275d",
   "metadata": {},
   "source": [
    "Hii testing"
   ]
  },
  {
   "cell_type": "code",
   "execution_count": null,
   "id": "2ece8080",
   "metadata": {},
   "outputs": [],
   "source": []
  }
 ],
 "metadata": {
  "kernelspec": {
   "display_name": "Python 3 (ipykernel)",
   "language": "python",
   "name": "python3"
  },
  "language_info": {
   "codemirror_mode": {
    "name": "ipython",
    "version": 3
   },
   "file_extension": ".py",
   "mimetype": "text/x-python",
   "name": "python",
   "nbconvert_exporter": "python",
   "pygments_lexer": "ipython3",
   "version": "3.11.4"
  }
 },
 "nbformat": 4,
 "nbformat_minor": 5
}
