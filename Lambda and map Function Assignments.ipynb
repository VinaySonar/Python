{
 "cells": [
  {
   "cell_type": "code",
   "execution_count": 2,
   "id": "0a23c737",
   "metadata": {},
   "outputs": [
    {
     "data": {
      "text/plain": [
       "[65, 54, 33, 24, 12, 3]"
      ]
     },
     "execution_count": 2,
     "metadata": {},
     "output_type": "execute_result"
    }
   ],
   "source": [
    "#Sort all the numbers in a list in descending order using lambda function\n",
    "\n",
    "l1=[12,3 ,33,24,54,65]\n",
    "sorted(l1, key=(lambda x: -x))"
   ]
  },
  {
   "cell_type": "code",
   "execution_count": 6,
   "id": "aaf75c48",
   "metadata": {},
   "outputs": [
    {
     "name": "stdout",
     "output_type": "stream",
     "text": [
      "['V', 'a', 'i', 'n', 'y']\n"
     ]
    }
   ],
   "source": [
    "#Sort all the characters of given string using lambda function\n",
    "string=\"Vinay\"\n",
    "print(sorted(string,key=(lambda x: ord(x))))"
   ]
  },
  {
   "cell_type": "code",
   "execution_count": 33,
   "id": "69d5a819",
   "metadata": {},
   "outputs": [
    {
     "name": "stdout",
     "output_type": "stream",
     "text": [
      "['Pratik', 'Anshul', 'Vinay', 'Vinay']\n",
      "['Pratik', 'Anshul', 'Vinay', 'Vinay']\n"
     ]
    }
   ],
   "source": [
    "#Given list of strings, sort all the strings by last character of that string. \n",
    "#Use lambda function and normal function both.\n",
    "\n",
    "\n",
    "\n",
    "list_name=[\"Vinay\",\"Pratik\",\"Anshul\",\"Vinay\"]\n",
    "print(sorted(list_name, key=(lambda x:x[-1])))\n",
    "\n",
    "def name_sorting(l):\n",
    "    return l[-1]\n",
    "\n",
    "\n",
    "#print(sorted(list_name))  -->Sorted Function\n",
    "\n",
    "x=sorted(list_name ,key = name_sorting)\n",
    "print(x)\n",
    "\n"
   ]
  },
  {
   "cell_type": "code",
   "execution_count": 32,
   "id": "91426ea0",
   "metadata": {},
   "outputs": [
    {
     "data": {
      "text/plain": [
       "['Vinay', 'Anshul', 'Pratik']"
      ]
     },
     "execution_count": 32,
     "metadata": {},
     "output_type": "execute_result"
    }
   ],
   "source": [
    "# Given list of employees. This list may contain repetitions. \n",
    "#Find all unique employee names and print them as per order of second character in that name. \n",
    "# Use lambda function and normal function both.\n",
    "\n",
    "(sorted(set(x),key=(lambda a: a[1])))\n",
    "\n",
    "\n",
    "\n"
   ]
  },
  {
   "cell_type": "code",
   "execution_count": 51,
   "id": "6a86d040",
   "metadata": {},
   "outputs": [
    {
     "ename": "SyntaxError",
     "evalue": "unterminated string literal (detected at line 7) (939399370.py, line 7)",
     "output_type": "error",
     "traceback": [
      "\u001b[0;36m  Cell \u001b[0;32mIn[51], line 7\u001b[0;36m\u001b[0m\n\u001b[0;31m    s='{0}, {1}, and {2}’\u001b[0m\n\u001b[0m      ^\u001b[0m\n\u001b[0;31mSyntaxError\u001b[0m\u001b[0;31m:\u001b[0m unterminated string literal (detected at line 7)\n"
     ]
    }
   ],
   "source": [
    "# Take Employee id and Employee name of 5 employees from user. \n",
    "# Store it in dictionary. Print all employees in increasing order of employee Id \n",
    "# . Also print all employees in alphabetical order by name.\n",
    "\n",
    "\n",
    "\n"
   ]
  },
  {
   "cell_type": "code",
   "execution_count": null,
   "id": "85e237aa",
   "metadata": {},
   "outputs": [],
   "source": []
  }
 ],
 "metadata": {
  "kernelspec": {
   "display_name": "Python 3 (ipykernel)",
   "language": "python",
   "name": "python3"
  },
  "language_info": {
   "codemirror_mode": {
    "name": "ipython",
    "version": 3
   },
   "file_extension": ".py",
   "mimetype": "text/x-python",
   "name": "python",
   "nbconvert_exporter": "python",
   "pygments_lexer": "ipython3",
   "version": "3.11.4"
  }
 },
 "nbformat": 4,
 "nbformat_minor": 5
}
